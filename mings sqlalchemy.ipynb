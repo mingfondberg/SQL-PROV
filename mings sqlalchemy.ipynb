{
 "cells": [
  {
   "cell_type": "code",
   "execution_count": 2,
   "id": "a18532d9",
   "metadata": {},
   "outputs": [
    {
     "name": "stdout",
     "output_type": "stream",
     "text": [
      "Requirement already satisfied: sqlalchemy in c:\\users\\admin\\anaconda3\\lib\\site-packages (1.4.39)\n",
      "Requirement already satisfied: greenlet!=0.4.17 in c:\\users\\admin\\anaconda3\\lib\\site-packages (from sqlalchemy) (2.0.1)\n",
      "Requirement already satisfied: pyodbc in c:\\users\\admin\\anaconda3\\lib\\site-packages (4.0.34)\n"
     ]
    }
   ],
   "source": [
    "!pip install sqlalchemy\n",
    "!pip install pyodbc"
   ]
  },
  {
   "cell_type": "code",
   "execution_count": 56,
   "id": "bc71ab55",
   "metadata": {},
   "outputs": [],
   "source": [
    "from sqlalchemy import create_engine, MetaData, Table, inspect\n",
    "import pandas as pd\n",
    "import numpy as np\n",
    "import matplotlib.pyplot as plt\n",
    "\n"
   ]
  },
  {
   "cell_type": "code",
   "execution_count": 57,
   "id": "bf3e0ac2",
   "metadata": {},
   "outputs": [
    {
     "name": "stdout",
     "output_type": "stream",
     "text": [
      "Requirement already satisfied: scipy in c:\\users\\admin\\anaconda3\\lib\\site-packages (1.10.1)\n",
      "Requirement already satisfied: numpy<1.27.0,>=1.19.5 in c:\\users\\admin\\anaconda3\\lib\\site-packages (from scipy) (1.24.3)\n"
     ]
    }
   ],
   "source": [
    "!pip install scipy\n",
    "import scipy.stats as stats\n",
    "import pandas as pd\n",
    "from sqlalchemy import create_engine\n",
    "\n",
    "database = \"AdventureWorks2022\"\n",
    "host = \"LAPTOP-26IQFQOB\"\n",
    "\n",
    "connection_string = f\"mssql://LAPTOP-26IQFQOB/AdventureWorks2022?trusted_connection=yes&driver=ODBC+Driver+17+for+SQL+Server\"\n",
    "engine = create_engine(connection_string)"
   ]
  },
  {
   "cell_type": "code",
   "execution_count": 134,
   "id": "66806e73",
   "metadata": {},
   "outputs": [
    {
     "data": {
      "text/html": [
       "<div>\n",
       "<style scoped>\n",
       "    .dataframe tbody tr th:only-of-type {\n",
       "        vertical-align: middle;\n",
       "    }\n",
       "\n",
       "    .dataframe tbody tr th {\n",
       "        vertical-align: top;\n",
       "    }\n",
       "\n",
       "    .dataframe thead th {\n",
       "        text-align: right;\n",
       "    }\n",
       "</style>\n",
       "<table border=\"1\" class=\"dataframe\">\n",
       "  <thead>\n",
       "    <tr style=\"text-align: right;\">\n",
       "      <th></th>\n",
       "      <th>ProductID</th>\n",
       "      <th>ProductName</th>\n",
       "      <th>NumberOfTransactions</th>\n",
       "      <th>TotalQuantitySold</th>\n",
       "    </tr>\n",
       "  </thead>\n",
       "  <tbody>\n",
       "    <tr>\n",
       "      <th>0</th>\n",
       "      <td>3</td>\n",
       "      <td>BB Ball Bearing</td>\n",
       "      <td>786</td>\n",
       "      <td>537800</td>\n",
       "    </tr>\n",
       "    <tr>\n",
       "      <th>1</th>\n",
       "      <td>532</td>\n",
       "      <td>Seat Stays</td>\n",
       "      <td>786</td>\n",
       "      <td>282092</td>\n",
       "    </tr>\n",
       "    <tr>\n",
       "      <th>2</th>\n",
       "      <td>316</td>\n",
       "      <td>Blade</td>\n",
       "      <td>786</td>\n",
       "      <td>142314</td>\n",
       "    </tr>\n",
       "    <tr>\n",
       "      <th>3</th>\n",
       "      <td>331</td>\n",
       "      <td>Fork End</td>\n",
       "      <td>786</td>\n",
       "      <td>142314</td>\n",
       "    </tr>\n",
       "    <tr>\n",
       "      <th>4</th>\n",
       "      <td>324</td>\n",
       "      <td>Chain Stays</td>\n",
       "      <td>786</td>\n",
       "      <td>141046</td>\n",
       "    </tr>\n",
       "    <tr>\n",
       "      <th>...</th>\n",
       "      <td>...</td>\n",
       "      <td>...</td>\n",
       "      <td>...</td>\n",
       "      <td>...</td>\n",
       "    </tr>\n",
       "    <tr>\n",
       "      <th>492</th>\n",
       "      <td>464</td>\n",
       "      <td>Lock Washer 5</td>\n",
       "      <td>1</td>\n",
       "      <td>3</td>\n",
       "    </tr>\n",
       "    <tr>\n",
       "      <th>493</th>\n",
       "      <td>466</td>\n",
       "      <td>Lock Washer 6</td>\n",
       "      <td>1</td>\n",
       "      <td>3</td>\n",
       "    </tr>\n",
       "    <tr>\n",
       "      <th>494</th>\n",
       "      <td>470</td>\n",
       "      <td>Lock Washer 7</td>\n",
       "      <td>1</td>\n",
       "      <td>3</td>\n",
       "    </tr>\n",
       "    <tr>\n",
       "      <th>495</th>\n",
       "      <td>468</td>\n",
       "      <td>Lock Washer 8</td>\n",
       "      <td>1</td>\n",
       "      <td>3</td>\n",
       "    </tr>\n",
       "    <tr>\n",
       "      <th>496</th>\n",
       "      <td>473</td>\n",
       "      <td>Lock Washer 9</td>\n",
       "      <td>1</td>\n",
       "      <td>3</td>\n",
       "    </tr>\n",
       "  </tbody>\n",
       "</table>\n",
       "<p>497 rows × 4 columns</p>\n",
       "</div>"
      ],
      "text/plain": [
       "     ProductID      ProductName  NumberOfTransactions  TotalQuantitySold\n",
       "0            3  BB Ball Bearing                   786             537800\n",
       "1          532       Seat Stays                   786             282092\n",
       "2          316            Blade                   786             142314\n",
       "3          331         Fork End                   786             142314\n",
       "4          324      Chain Stays                   786             141046\n",
       "..         ...              ...                   ...                ...\n",
       "492        464    Lock Washer 5                     1                  3\n",
       "493        466    Lock Washer 6                     1                  3\n",
       "494        470    Lock Washer 7                     1                  3\n",
       "495        468    Lock Washer 8                     1                  3\n",
       "496        473    Lock Washer 9                     1                  3\n",
       "\n",
       "[497 rows x 4 columns]"
      ]
     },
     "execution_count": 134,
     "metadata": {},
     "output_type": "execute_result"
    }
   ],
   "source": [
    "import scipy.stats as stats\n",
    "\n",
    "\n",
    "query = \"\"\"\n",
    "SELECT \n",
    "    p.ProductID, \n",
    "    p.Name AS ProductName, \n",
    "    COUNT(th.TransactionID) AS NumberOfTransactions, \n",
    "    SUM(th.Quantity) AS TotalQuantitySold\n",
    "FROM Production.TransactionHistoryArchive th\n",
    "JOIN Production.Product p ON th.ProductID = p.ProductID\n",
    "GROUP BY p.ProductID, p.Name\n",
    "ORDER BY TotalQuantitySold DESC;\n",
    "\"\"\"\n",
    "\n",
    "# Replace 'connection' with your actual database connection\n",
    "sales_data = pd.read_sql(query, con=connection)\n",
    "sales_data"
   ]
  },
  {
   "cell_type": "code",
   "execution_count": 162,
   "id": "6be86f83",
   "metadata": {},
   "outputs": [
    {
     "data": {
      "text/html": [
       "<div>\n",
       "<style scoped>\n",
       "    .dataframe tbody tr th:only-of-type {\n",
       "        vertical-align: middle;\n",
       "    }\n",
       "\n",
       "    .dataframe tbody tr th {\n",
       "        vertical-align: top;\n",
       "    }\n",
       "\n",
       "    .dataframe thead th {\n",
       "        text-align: right;\n",
       "    }\n",
       "</style>\n",
       "<table border=\"1\" class=\"dataframe\">\n",
       "  <thead>\n",
       "    <tr style=\"text-align: right;\">\n",
       "      <th></th>\n",
       "      <th>TransactionID</th>\n",
       "      <th>ProductID</th>\n",
       "      <th>ReferenceOrderID</th>\n",
       "      <th>ReferenceOrderLineID</th>\n",
       "      <th>TransactionDate</th>\n",
       "      <th>TransactionType</th>\n",
       "      <th>Quantity</th>\n",
       "      <th>ActualCost</th>\n",
       "      <th>ModifiedDate</th>\n",
       "    </tr>\n",
       "  </thead>\n",
       "  <tbody>\n",
       "    <tr>\n",
       "      <th>0</th>\n",
       "      <td>1</td>\n",
       "      <td>1</td>\n",
       "      <td>1</td>\n",
       "      <td>1</td>\n",
       "      <td>2011-04-16</td>\n",
       "      <td>P</td>\n",
       "      <td>4</td>\n",
       "      <td>50.2600</td>\n",
       "      <td>2011-04-16</td>\n",
       "    </tr>\n",
       "    <tr>\n",
       "      <th>1</th>\n",
       "      <td>2</td>\n",
       "      <td>359</td>\n",
       "      <td>2</td>\n",
       "      <td>1</td>\n",
       "      <td>2011-04-16</td>\n",
       "      <td>P</td>\n",
       "      <td>3</td>\n",
       "      <td>45.1200</td>\n",
       "      <td>2011-04-16</td>\n",
       "    </tr>\n",
       "    <tr>\n",
       "      <th>2</th>\n",
       "      <td>3</td>\n",
       "      <td>360</td>\n",
       "      <td>2</td>\n",
       "      <td>2</td>\n",
       "      <td>2011-04-16</td>\n",
       "      <td>P</td>\n",
       "      <td>3</td>\n",
       "      <td>45.5805</td>\n",
       "      <td>2011-04-16</td>\n",
       "    </tr>\n",
       "    <tr>\n",
       "      <th>3</th>\n",
       "      <td>4</td>\n",
       "      <td>530</td>\n",
       "      <td>3</td>\n",
       "      <td>1</td>\n",
       "      <td>2011-04-16</td>\n",
       "      <td>P</td>\n",
       "      <td>550</td>\n",
       "      <td>16.0860</td>\n",
       "      <td>2011-04-16</td>\n",
       "    </tr>\n",
       "    <tr>\n",
       "      <th>4</th>\n",
       "      <td>5</td>\n",
       "      <td>4</td>\n",
       "      <td>4</td>\n",
       "      <td>1</td>\n",
       "      <td>2011-04-16</td>\n",
       "      <td>P</td>\n",
       "      <td>3</td>\n",
       "      <td>57.0255</td>\n",
       "      <td>2011-04-16</td>\n",
       "    </tr>\n",
       "  </tbody>\n",
       "</table>\n",
       "</div>"
      ],
      "text/plain": [
       "   TransactionID  ProductID  ReferenceOrderID  ReferenceOrderLineID  \\\n",
       "0              1          1                 1                     1   \n",
       "1              2        359                 2                     1   \n",
       "2              3        360                 2                     2   \n",
       "3              4        530                 3                     1   \n",
       "4              5          4                 4                     1   \n",
       "\n",
       "  TransactionDate TransactionType  Quantity  ActualCost ModifiedDate  \n",
       "0      2011-04-16               P         4     50.2600   2011-04-16  \n",
       "1      2011-04-16               P         3     45.1200   2011-04-16  \n",
       "2      2011-04-16               P         3     45.5805   2011-04-16  \n",
       "3      2011-04-16               P       550     16.0860   2011-04-16  \n",
       "4      2011-04-16               P         3     57.0255   2011-04-16  "
      ]
     },
     "execution_count": 162,
     "metadata": {},
     "output_type": "execute_result"
    }
   ],
   "source": [
    "df = pd.read_sql(sql=\"SELECT * FROM Production.TransactionHistoryArchive\", con=connection)\n",
    "df.head()"
   ]
  },
  {
   "cell_type": "code",
   "execution_count": 164,
   "id": "6e21624f",
   "metadata": {},
   "outputs": [
    {
     "name": "stdout",
     "output_type": "stream",
     "text": [
      "Index(['TransactionID', 'ProductID', 'ReferenceOrderID',\n",
      "       'ReferenceOrderLineID', 'TransactionDate', 'TransactionType',\n",
      "       'Quantity', 'ActualCost', 'ModifiedDate'],\n",
      "      dtype='object')\n"
     ]
    }
   ],
   "source": [
    "import pandas as pd\n",
    "import numpy as np\n",
    "import scipy.stats as stats\n",
    "import sqlalchemy\n",
    "print(df.columns)\n"
   ]
  },
  {
   "cell_type": "code",
   "execution_count": 165,
   "id": "2a5818dc",
   "metadata": {},
   "outputs": [
    {
     "name": "stdout",
     "output_type": "stream",
     "text": [
      "Confidence Interval for Average Quantity Sold (2011-2015): (31.212792060005857, 37.30721286980042)\n"
     ]
    }
   ],
   "source": [
    "\"\"\"analysera av försäljningsdata över en femårsperiod och  får\n",
    "genomsnittlig försäljningsvolym under denna period, komplett med ett mått\n",
    "på osäkerhet genom konfidensintervallet.\n",
    "\"\"\"\n",
    "\n",
    "df['TransactionDate'] = pd.to_datetime(df['TransactionDate'])\n",
    "filtered_df = df[(df['TransactionDate'].dt.year >= 2011) & (df['TransactionDate'].dt.year <= 2015)]\n",
    "mean_quantity = filtered_df['Quantity'].mean()\n",
    "sem_quantity = stats.sem(filtered_df['Quantity'], nan_policy='omit')\n",
    "confidence_level = 0.95\n",
    "ci = stats.norm.interval(confidence_level, loc=mean_quantity, scale=sem_quantity)\n",
    "\n",
    "print(f\"Confidence Interval for Average Quantity Sold (2011-2015): {ci}\")"
   ]
  },
  {
   "cell_type": "code",
   "execution_count": 166,
   "id": "3710f67b",
   "metadata": {},
   "outputs": [
    {
     "data": {
      "image/png": "[encoded data removed]",
      "text/plain": [
       "<Figure size 1000x600 with 1 Axes>"
      ]
     },
     "metadata": {},
     "output_type": "display_data"
    }
   ],
   "source": [
    "import pandas as pd\n",
    "import matplotlib.pyplot as plt\n",
    "\n",
    "\"\"\"örsäljningsprestandan för olika produkter under en femårsperiod, \n",
    "med ett särskilt fokus på att identifiera och visualisera de produkter \n",
    "som hade högst genomsnittlig försäljningsvolym. Genom att göra detta stödjer \n",
    "koden beslutsfattande relaterat till produktstrategi, lagerhantering och \n",
    "marknadsföringsinsatser.\"\"\"\n",
    "\n",
    "df['TransactionDate'] = pd.to_datetime(df['TransactionDate'])\n",
    "filtered_df = df[(df['TransactionDate'].dt.year >= 2011) & (df['TransactionDate'].dt.year <= 2015)]\n",
    "average_quantity_per_product = filtered_df.groupby('ProductID')['Quantity'].mean()\n",
    "average_quantity_per_product = average_quantity_per_product.sort_values(ascending=False)\n",
    "average_quantity_per_product.head(10).plot(kind='bar', figsize=(10, 6))  # Visa topp 10 produkter\n",
    "plt.title('Top 10 Products by Average Quantity Sold (2011-2015)')\n",
    "plt.xlabel('Product ID')\n",
    "plt.ylabel('Average Quantity Sold')\n",
    "plt.show()\n"
   ]
  },
  {
   "cell_type": "code",
   "execution_count": 170,
   "id": "816e927b",
   "metadata": {
    "scrolled": true
   },
   "outputs": [
    {
     "data": {
      "image/png": "[encoded data removed]",
      "text/plain": [
       "<Figure size 800x800 with 1 Axes>"
      ]
     },
     "metadata": {},
     "output_type": "display_data"
    }
   ],
   "source": [
    "\"\"\" analysera och visualisera försäljningsdata, specifikt för att identifiera och \n",
    "framhäva de mest sålda produkterna under en viss tidsperiod\n",
    "\"\"\" \n",
    "total_quantity_per_product = filtered_df.groupby('ProductID')['Quantity'].sum()\n",
    "top_products = total_quantity_per_product.sort_values(ascending=False).head(5)\n",
    "top_products.plot(kind='pie', autopct='%1.1f%%', figsize=(8, 8), startangle=140)\n",
    "plt.title('Top 5 Products by Total Quantity Sold (2011-2015)')\n",
    "plt.ylabel('')  # Ta bort y-axelns etikett för estetik\n",
    "plt.show()\n"
   ]
  },
  {
   "cell_type": "code",
   "execution_count": null,
   "id": "130448c0",
   "metadata": {},
   "outputs": [],
   "source": []
  },
  {
   "cell_type": "code",
   "execution_count": null,
   "id": "94c2b6f8",
   "metadata": {},
   "outputs": [],
   "source": []
  },
  {
   "cell_type": "markdown",
   "id": "ce2a902a",
   "metadata": {},
   "source": []
  },
  {
   "cell_type": "markdown",
   "id": "fba9a889",
   "metadata": {},
   "source": [
    "\n"
   ]
  },
  {
   "cell_type": "markdown",
   "id": "0ec723a0",
   "metadata": {},
   "source": []
  },
  {
   "cell_type": "markdown",
   "id": "26cf00da",
   "metadata": {},
   "source": []
  },
  {
   "cell_type": "markdown",
   "id": "c9e8aaee",
   "metadata": {},
   "source": []
  },
  {
   "cell_type": "code",
   "execution_count": null,
   "id": "e90955f8",
   "metadata": {},
   "outputs": [],
   "source": []
  }
 ],
 "metadata": {
  "kernelspec": {
   "display_name": "Python 3 (ipykernel)",
   "language": "python",
   "name": "python3"
  },
  "language_info": {
   "codemirror_mode": {
    "name": "ipython",
    "version": 3
   },
   "file_extension": ".py",
   "mimetype": "text/x-python",
   "name": "python",
   "nbconvert_exporter": "python",
   "pygments_lexer": "ipython3",
   "version": "3.11.4"
  }
 },
 "nbformat": 4,
 "nbformat_minor": 5
}
